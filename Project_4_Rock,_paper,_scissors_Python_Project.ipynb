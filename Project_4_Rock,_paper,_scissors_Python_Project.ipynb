{
  "nbformat": 4,
  "nbformat_minor": 0,
  "metadata": {
    "colab": {
      "provenance": [],
      "authorship_tag": "ABX9TyPWvTjh3bf5HdPUlOmFtlPX",
      "include_colab_link": true
    },
    "kernelspec": {
      "name": "python3",
      "display_name": "Python 3"
    },
    "language_info": {
      "name": "python"
    }
  },
  "cells": [
    {
      "cell_type": "markdown",
      "metadata": {
        "id": "view-in-github",
        "colab_type": "text"
      },
      "source": [
        "<a href=\"https://colab.research.google.com/github/Abdullahkhan90/Project-4-Rock-paper-scissors-Python-Project/blob/main/Project_4_Rock%2C_paper%2C_scissors_Python_Project.ipynb\" target=\"_parent\"><img src=\"https://colab.research.google.com/assets/colab-badge.svg\" alt=\"Open In Colab\"/></a>"
      ]
    },
    {
      "cell_type": "markdown",
      "source": [
        "## **Project 4: Rock, paper, scissors Python Project**"
      ],
      "metadata": {
        "id": "0uimPky6CWny"
      }
    },
    {
      "cell_type": "code",
      "source": [
        "import random\n",
        "\n",
        "# Gamme Choices\n",
        "choices = [\"Rock\" , \"Paper\" , \"Scissors\"]\n",
        "\n",
        "# Player Choice\n",
        "player_choice = input(\"Enter Rock , Paper, or Scissors: \").lower()\n",
        "\n",
        "# Computer Choice\n",
        "computer_choice = random.choice(choices)\n",
        "\n",
        "# Winner\n",
        "if player_choice == computer_choice:\n",
        "    print(f\"Both Players Choices are same {player_choice} . Its a Tie!\")\n",
        "\n",
        "elif player_choice == \"Rock\" and computer_choice == \"Scissors\":\n",
        "    print(f\"Player Wins!  {player_choice}  beats {computer_choice}\")\n",
        "\n",
        "elif player_choice == \"Paper\" and computer_choice == \"Rock\":\n",
        "    print(f\"Player Wins!  {player_choice}  beats {computer_choice}\")\n",
        "\n",
        "elif player_choice == \"Scissors\" and computer_choice == \"Paper\":\n",
        "    print(f\"Player Wins!  {player_choice}  beats {computer_choice}\")\n",
        "\n",
        "else:\n",
        "       print(f\"Computer Wins!  {computer_choice} beats {player_choice}\")\n",
        "\n",
        "\n"
      ],
      "metadata": {
        "colab": {
          "base_uri": "https://localhost:8080/"
        },
        "id": "xugAMvT4CcwS",
        "outputId": "9aa6e9d4-c37b-4663-cbe7-126d523816a5"
      },
      "execution_count": 40,
      "outputs": [
        {
          "output_type": "stream",
          "name": "stdout",
          "text": [
            "Enter Rock , Paper, or Scissors: Rock\n",
            "Computer Wins!  Scissors beats rock\n"
          ]
        }
      ]
    }
  ]
}