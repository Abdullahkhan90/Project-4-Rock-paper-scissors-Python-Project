{
  "nbformat": 4,
  "nbformat_minor": 0,
  "metadata": {
    "colab": {
      "provenance": [],
      "authorship_tag": "ABX9TyO3JR1//GVNZmqXp3tm3u+P",
      "include_colab_link": true
    },
    "kernelspec": {
      "name": "python3",
      "display_name": "Python 3"
    },
    "language_info": {
      "name": "python"
    }
  },
  "cells": [
    {
      "cell_type": "markdown",
      "metadata": {
        "id": "view-in-github",
        "colab_type": "text"
      },
      "source": [
        "<a href=\"https://colab.research.google.com/github/Abdullahkhan90/Project-4-Rock-paper-scissors-Python-Project/blob/main/Project_4_Rock%2C_paper%2C_scissors_Python_Project.ipynb\" target=\"_parent\"><img src=\"https://colab.research.google.com/assets/colab-badge.svg\" alt=\"Open In Colab\"/></a>"
      ]
    },
    {
      "cell_type": "markdown",
      "source": [
        "## **Project 4: Rock, paper, scissors Python Project**"
      ],
      "metadata": {
        "id": "0uimPky6CWny"
      }
    },
    {
      "cell_type": "code",
      "source": [
        "import random\n",
        "\n",
        "# Game Choices\n",
        "choices = [\"rock\", \"paper\", \"scissors\"]\n",
        "\n",
        "# Player Choice\n",
        "player_choice = input(\"Enter Rock, Paper, or Scissors: \").lower()\n",
        "\n",
        "# Check if the input is valid\n",
        "if player_choice not in choices:\n",
        "    print(\"Invalid choice. Please enter Rock, Paper, or Scissors.\")\n",
        "else:\n",
        "    # Computer Choice\n",
        "    computer_choice = random.choice(choices)\n",
        "\n",
        "    # Winner\n",
        "    if player_choice == computer_choice:\n",
        "        print(f\"Both players choose {player_choice}. It's a tie!\")\n",
        "\n",
        "    elif player_choice == \"rock\" and computer_choice == \"scissors\":\n",
        "        print(f\"Player wins! {player_choice} beats {computer_choice}\")\n",
        "\n",
        "    elif player_choice == \"paper\" and computer_choice == \"rock\":\n",
        "        print(f\"Player wins! {player_choice} beats {computer_choice}\")\n",
        "\n",
        "    elif player_choice == \"scissors\" and computer_choice == \"paper\":\n",
        "        print(f\"Player wins! {player_choice} beats {computer_choice}\")\n",
        "\n",
        "    else:\n",
        "        print(f\"Computer wins! {computer_choice} beats {player_choice}\")\n"
      ],
      "metadata": {
        "colab": {
          "base_uri": "https://localhost:8080/"
        },
        "id": "xugAMvT4CcwS",
        "outputId": "5bba9cc6-82a9-4fdd-b786-b42d5cf2bbbf"
      },
      "execution_count": 50,
      "outputs": [
        {
          "output_type": "stream",
          "name": "stdout",
          "text": [
            "Enter Rock, Paper, or Scissors: paper\n",
            "Both players choose paper. It's a tie!\n"
          ]
        }
      ]
    }
  ]
}